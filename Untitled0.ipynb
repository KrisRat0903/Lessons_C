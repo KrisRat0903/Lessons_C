{
  "nbformat": 4,
  "nbformat_minor": 0,
  "metadata": {
    "colab": {
      "provenance": [],
      "authorship_tag": "ABX9TyOKMPAysrVpSTGqqKGOAvuJ",
      "include_colab_link": true
    },
    "kernelspec": {
      "name": "python3",
      "display_name": "Python 3"
    },
    "language_info": {
      "name": "python"
    }
  },
  "cells": [
    {
      "cell_type": "markdown",
      "metadata": {
        "id": "view-in-github",
        "colab_type": "text"
      },
      "source": [
        "<a href=\"https://colab.research.google.com/github/KrisRat0903/Lessons_C/blob/main/Untitled0.ipynb\" target=\"_parent\"><img src=\"https://colab.research.google.com/assets/colab-badge.svg\" alt=\"Open In Colab\"/></a>"
      ]
    },
    {
      "cell_type": "code",
      "execution_count": 12,
      "metadata": {
        "colab": {
          "base_uri": "https://localhost:8080/"
        },
        "id": "BIjvkVPydxdy",
        "outputId": "8bd6acb0-f947-4056-9e72-2be8368a3fb3"
      },
      "outputs": [
        {
          "output_type": "stream",
          "name": "stdout",
          "text": [
            "[173. 175. 180. 178. 177. 185. 183. 182. 177. 179. 180. 188. 177. 172.\n",
            " 171. 184. 180. 172. 173. 169. 177. 166. 180. 178. 177. 172. 166. 170.]\n"
          ]
        },
        {
          "output_type": "execute_result",
          "data": {
            "text/plain": [
              "3.3851899614491687"
            ]
          },
          "metadata": {},
          "execution_count": 12
        }
      ],
      "source": [
        "import numpy as np\n",
        "from scipy import stats\n",
        "\n",
        "fp = np.array([173, 175, 180, 178, 177, 185, 183, 182], dtype=np.float64)\n",
        "hp = np.array([177, 179, 180, 188, 177, 172, 171, 184, 180], dtype=np.float64)\n",
        "lf = np.array([172, 173, 169, 177, 166, 180, 178, 177, 172, 166, 170], dtype=np.float64)\n",
        "\n",
        "n1 = fp.shape[0]\n",
        "n2 = hp.shape[0]\n",
        "n3 = lf.shape[0]\n",
        "\n",
        "fp_mean = fp.mean()\n",
        "hp_mean = hp.mean()\n",
        "lf_mean = lf.mean()\n",
        "\n",
        "fp_mean, hp_mean, lf_mean\n",
        "\n",
        "y = np.concatenate([fp, hp, lf])\n",
        "print(y)\n",
        "\n",
        "y_mean = y.mean()\n",
        "y_mean\n",
        "\n",
        "S2_F = n1 * (fp_mean - y_mean) ** 2 + n2 * (hp_mean - y_mean) ** 2 + n3 * (lf_mean - y_mean) ** 2\n",
        "S2_res = ((fp - fp_mean) ** 2).sum() + ((hp - hp_mean) ** 2).sum() + ((lf - lf_mean) ** 2).sum()\n",
        "S2_F, S2_res\n",
        "\n",
        "S2_F + S2_res\n",
        "\n",
        "((y - y_mean) ** 2).sum()\n",
        "\n",
        "k = 3\n",
        "n = n1 + n2 + n3\n",
        "\n",
        "k1 = k - 1\n",
        "k2 = n - k\n",
        "\n",
        "sigma2_F = S2_F / k1\n",
        "sigma2_res = S2_res / k2\n",
        "\n",
        "sigma2_F, sigma2_res\n",
        "\n",
        "T = sigma2_F / sigma2_res\n",
        "T\n",
        "\n",
        "alpha = 0.05\n",
        "\n",
        "F_crit = stats.f.ppf(1 - alpha, k1, k2)\n",
        "F_crit\n",
        "\n",
        "\n"
      ]
    }
  ]
}